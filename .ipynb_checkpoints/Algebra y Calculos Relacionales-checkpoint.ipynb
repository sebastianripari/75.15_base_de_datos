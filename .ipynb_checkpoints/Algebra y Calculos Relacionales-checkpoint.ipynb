{
 "cells": [
  {
   "cell_type": "markdown",
   "metadata": {},
   "source": [
    "# Algebra y Calculos Relacionales"
   ]
  },
  {
   "cell_type": "markdown",
   "metadata": {},
   "source": [
    "Para interactuar con un modelo es necesario utilizar un <b>lenguaje</b>"
   ]
  },
  {
   "cell_type": "markdown",
   "metadata": {},
   "source": [
    "Los lenguajes que permiten extraer informacion de un modelo de datos se denominan <b>lenguajes de manipulacion de datos</b>, o <b>DML (Data Model Languages) </b>"
   ]
  },
  {
   "cell_type": "markdown",
   "metadata": {},
   "source": [
    "<img src=\"images/Lenguajes de manipulacion de datos.png\">"
   ]
  },
  {
   "cell_type": "markdown",
   "metadata": {},
   "source": [
    "Los lenguajes <b>procedurales</b> indican un procecedimiento a seguir, utilizando <b>operaciones</b> que indican como manipular los datos. Estos se coincideran de mas bajo nivel."
   ]
  },
  {
   "cell_type": "markdown",
   "metadata": {},
   "source": [
    "Los lenguajes <b>declarativos</b> indican que resultado se quiere obtener, sin especificar como hacerlo."
   ]
  },
  {
   "cell_type": "markdown",
   "metadata": {},
   "source": [
    "Existen los lenguajes <b>formales</b> y los <b>practicos</b>"
   ]
  },
  {
   "cell_type": "markdown",
   "metadata": {},
   "source": [
    "El lenguaje practico mas conocido es <b>SQL (Structured Query Language)</b>. Es declarativo."
   ]
  },
  {
   "cell_type": "markdown",
   "metadata": {},
   "source": [
    "Lenguajes formales:\n",
    "- <b>Algebra Relacional</b>, es procedural.\n",
    "- <b>Calculo Relacional</b>, es declarativo."
   ]
  },
  {
   "cell_type": "markdown",
   "metadata": {},
   "source": [
    "## Algebra Relacional"
   ]
  },
  {
   "cell_type": "markdown",
   "metadata": {},
   "source": [
    "Lenguaje procedural propuesto por <b>E.Codd</b> en 1970."
   ]
  },
  {
   "cell_type": "markdown",
   "metadata": {},
   "source": [
    "### Operaciones Basicas"
   ]
  },
  {
   "cell_type": "markdown",
   "metadata": {},
   "source": [
    "#### Seleccion"
   ]
  },
  {
   "cell_type": "markdown",
   "metadata": {},
   "source": [
    "El operador seleccion (σ) es un operador unario."
   ]
  },
  {
   "cell_type": "markdown",
   "metadata": {},
   "source": [
    "\\begin{equation}\n",
    "\\theta_{cond} : R \\rightarrow S\n",
    "\\end{equation}"
   ]
  },
  {
   "cell_type": "markdown",
   "metadata": {},
   "source": [
    "Dada una relacion R (A1, A2, ..., An) y una condicion que se aplica a cada tupla de R:"
   ]
  },
  {
   "cell_type": "markdown",
   "metadata": {},
   "source": [
    "\\begin{equation}\n",
    "\\theta_{cond} (R)\n",
    "\\end{equation}"
   ]
  },
  {
   "cell_type": "markdown",
   "metadata": {},
   "source": [
    "Selecciona aquellas tuplas de R para las cuales la condicion es verdadera."
   ]
  },
  {
   "cell_type": "markdown",
   "metadata": {},
   "source": [
    "\\begin{equation}\n",
    "\\large Peliculas\n",
    "\\end{equation}"
   ]
  },
  {
   "cell_type": "markdown",
   "metadata": {},
   "source": [
    "nombre_pelicula|año|nombre_director|cant_oscars<br>\n",
    "-|-|-|-|\n",
    "Kill Bill|2003|Quentin Tarantino|0|\n",
    "Django Unchained|2012|Quentin Tarantino|2|\n",
    "Star Wars|2005|George Lucas|0|\n",
    "Coco|2017|Lee Unkrich|2|"
   ]
  },
  {
   "cell_type": "markdown",
   "metadata": {},
   "source": [
    "\\begin{equation}\n",
    "\\large \\theta_{cantoscars > 1} (Peliculas)\n",
    "\\end{equation}"
   ]
  },
  {
   "cell_type": "markdown",
   "metadata": {},
   "source": [
    "nombre_pelicula|año|nombre_director|cant_oscars<br>\n",
    "-|-|-|-|\n",
    "Django Unchained|2012|Quentin Tarantino|2|\n",
    "Coco|2017|Lee Unkrich|2|"
   ]
  },
  {
   "cell_type": "markdown",
   "metadata": {},
   "source": [
    "#### Ejemplo: World Cup 2010"
   ]
  },
  {
   "cell_type": "markdown",
   "metadata": {},
   "source": [
    "Seleccionar aquellos jugadores del mundial que partenecen al club \"Barcelona [ESP]\" y nacieron antes de 1990."
   ]
  },
  {
   "cell_type": "markdown",
   "metadata": {},
   "source": [
    "\\begin{equation}\n",
    "\\large \\theta_{(local\\_club=\"Barcelona [ESP]\")\\wedge(birth\\_date <\"1990-01-01\")} (Player)\n",
    "\\end{equation}"
   ]
  }
 ],
 "metadata": {
  "kernelspec": {
   "display_name": "Python 3",
   "language": "python",
   "name": "python3"
  },
  "language_info": {
   "codemirror_mode": {
    "name": "ipython",
    "version": 3
   },
   "file_extension": ".py",
   "mimetype": "text/x-python",
   "name": "python",
   "nbconvert_exporter": "python",
   "pygments_lexer": "ipython3",
   "version": "3.7.6"
  }
 },
 "nbformat": 4,
 "nbformat_minor": 4
}
