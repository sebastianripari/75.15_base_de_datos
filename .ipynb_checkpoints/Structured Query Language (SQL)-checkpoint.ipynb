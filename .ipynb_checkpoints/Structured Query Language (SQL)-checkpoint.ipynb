{
 "cells": [
  {
   "cell_type": "markdown",
   "metadata": {},
   "source": [
    "# Structured Query Language (SQL)"
   ]
  },
  {
   "cell_type": "markdown",
   "metadata": {},
   "source": [
    "Recordemos que los <b>lenguajes</b> son las herramientas a traves de las cuales interactuamos con los modelos de datos."
   ]
  },
  {
   "cell_type": "markdown",
   "metadata": {},
   "source": [
    "En el contexto de base de datos los lenguajes se dividen en varios tipos:\n",
    "- De <b>definicion de datos</b>: Nos permiten expresar la estructura y las restricciones de nuestro modelo de datos.\n",
    "- De <b>manipulacion de datos</b>: Nos permiten ingresar, modificar, eliminar y consultar datos en nuestro modelo.\n",
    "- De <b>control de datos</b>: Manejan cuestiones vinculadas con los permisos de acceso a los datos."
   ]
  },
  {
   "cell_type": "markdown",
   "metadata": {},
   "source": [
    "Hoy en dia el lenguaje <b>SQL</b> es el estandar para la operacion de bases de datos relacionales."
   ]
  },
  {
   "cell_type": "markdown",
   "metadata": {},
   "source": [
    "Es tanto un lenguaje de definicion de datos (DDL) como de manipulacion de datos (DML)."
   ]
  },
  {
   "cell_type": "markdown",
   "metadata": {},
   "source": [
    "Modelo Relacional|SQL\n",
    "-|-\n",
    "Relacion|Tabla\n",
    "Tupla|Fila\n",
    "Atributo|Columna"
   ]
  },
  {
   "cell_type": "markdown",
   "metadata": {},
   "source": [
    "Supongamos que queremos obtener las peliculas que ganaron al menos un oscard."
   ]
  },
  {
   "cell_type": "markdown",
   "metadata": {},
   "source": [
    "## Ejemplo"
   ]
  },
  {
   "cell_type": "markdown",
   "metadata": {},
   "source": [
    "\\begin{equation}\n",
    "\\large Peliculas\n",
    "\\end{equation}"
   ]
  },
  {
   "cell_type": "markdown",
   "metadata": {},
   "source": [
    "nombre_pelicula|año|nombre_director|cant_oscars\n",
    "-|-|-|-\n",
    "Kill Bill|2003|Quentin Tarantino|0\n",
    "Django Unchained|2012|Quentin Tarantino|2\n",
    "Star Wars|2005|George Lucas|0\n",
    "Coco|2017|Lee Unkrich|2"
   ]
  },
  {
   "cell_type": "markdown",
   "metadata": {},
   "source": [
    "<b>SELECT</b> *<br>\n",
    "<b>FROM</b> Peliculas<br>\n",
    "<b>WHERE</b> cant_oscars > 0;"
   ]
  },
  {
   "cell_type": "markdown",
   "metadata": {},
   "source": [
    "nombre_pelicula|año|nombre_director|cant_oscars\n",
    "-|-|-|-\n",
    "Django Unchained|2012|Quentin Tarantino|2\n",
    "Coco|2017|Lee Unkrich|2"
   ]
  },
  {
   "cell_type": "markdown",
   "metadata": {},
   "source": [
    "<hr>"
   ]
  },
  {
   "cell_type": "markdown",
   "metadata": {},
   "source": [
    "La version original de SQL se denomina <b>SEQUEL</b> (structured english query language) y fue desarrollada por IBM Research (1974). Fue implementado en el System R de IBM (1977). El primer producto comercial basado en SEQUEL fue <b>Oracle</b> (1979)."
   ]
  }
 ],
 "metadata": {
  "kernelspec": {
   "display_name": "Python 3",
   "language": "python",
   "name": "python3"
  },
  "language_info": {
   "codemirror_mode": {
    "name": "ipython",
    "version": 3
   },
   "file_extension": ".py",
   "mimetype": "text/x-python",
   "name": "python",
   "nbconvert_exporter": "python",
   "pygments_lexer": "ipython3",
   "version": "3.7.6"
  }
 },
 "nbformat": 4,
 "nbformat_minor": 4
}
