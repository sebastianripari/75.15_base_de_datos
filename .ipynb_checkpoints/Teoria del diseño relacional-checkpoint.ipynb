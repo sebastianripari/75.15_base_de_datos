{
 "cells": [
  {
   "cell_type": "markdown",
   "metadata": {},
   "source": [
    "# Teoria del Diseño Relacional"
   ]
  },
  {
   "cell_type": "markdown",
   "metadata": {},
   "source": [
    "## Parte 1: Formas Normales "
   ]
  },
  {
   "cell_type": "markdown",
   "metadata": {},
   "source": [
    "Criterios de un buen diseño relacional\n",
    "- Preservacion de la informacion\n",
    "- Redundancia minima"
   ]
  },
  {
   "cell_type": "markdown",
   "metadata": {},
   "source": [
    "Cuando se parte de un correcto diseño conceptual y se hace un correcto pasaje al modelo logico, se obtiene un esquema sin redundancia y se preserva toda la informacion del mundo real que se queria modelar."
   ]
  },
  {
   "cell_type": "markdown",
   "metadata": {},
   "source": [
    "Pero, como verificamos un esquema relacional? Como corregimos un esquema que fue mal diseñado?"
   ]
  },
  {
   "cell_type": "markdown",
   "metadata": {},
   "source": [
    "La <b>teoria del diseño relacional</b> formaliza estos requisitos a traves de las <b>formas normales</b>."
   ]
  },
  {
   "cell_type": "markdown",
   "metadata": {},
   "source": [
    "### Dependencia funcional"
   ]
  },
  {
   "cell_type": "markdown",
   "metadata": {},
   "source": [
    "Dada una relacion $R(A)$, una <b>dependencia funcional</b> X -> Y, con X, Y incluidos en A es una restriccion sobre las posibles tuplas de R que implica que dos tuplas con igual valor del conjunto de atributos X deben tambien tener igual valor del conjunto de atributos Y."
   ]
  },
  {
   "cell_type": "markdown",
   "metadata": {},
   "source": [
    "\\begin{equation}\n",
    "\\large \\forall_{s, t \\in  R} : s[X] = t[X] \\rightarrow s[Y] = t[Y]\n",
    "\\end{equation}"
   ]
  },
  {
   "cell_type": "markdown",
   "metadata": {},
   "source": [
    "La dependencia funcional $X \\rightarrow Y$ implica que hay una relacion funcional entre los valores de X y los de Y dentro de la base de datos."
   ]
  },
  {
   "cell_type": "markdown",
   "metadata": {},
   "source": [
    "Cuando $Y \\subset X$ decimos que $X \\rightarrow Y$ es trivial."
   ]
  },
  {
   "cell_type": "markdown",
   "metadata": {},
   "source": [
    "Las dependencias funcionales se definen a partir de la semantica de los datos. No es posible inferirlas viendo los datos."
   ]
  },
  {
   "cell_type": "markdown",
   "metadata": {},
   "source": [
    "### Formas Normales"
   ]
  },
  {
   "cell_type": "markdown",
   "metadata": {},
   "source": [
    "Las <b>formas normales</b> son una serie de estructuras con las que un esquema de base de datos puede cumplir o no."
   ]
  },
  {
   "cell_type": "markdown",
   "metadata": {},
   "source": [
    "Las formas normales clasicas son:\n",
    "- Primera forma normal <b>(1FN)</b> (E. Codd, 1970)\n",
    "- Segunda forma normal <b>(2FN)</b> (E. Codd, 1971)\n",
    "- Tercera forma normal <b>(3FN)</b> (E. Codd, 1971)\n",
    "- Forma normal Boyce-Codd <b>(FNBC)</b> (R. Boyce, E. Codd, 1974)\n",
    "- Cuarta forma normal <b>(4FN)</b> (R. Fagin, 1977)\n",
    "- Quita forma normal <b>(5FN)</b> (R. Fagin, 1979)"
   ]
  },
  {
   "cell_type": "markdown",
   "metadata": {},
   "source": [
    "Cada forma normal es mas fuerte que las anteriores, en el orden en que las hemos introducido. Entonces:"
   ]
  },
  {
   "cell_type": "markdown",
   "metadata": {},
   "source": [
    "<b>S</b> esta en <b>5FN</b> $\\rightarrow$ <b>S</b> esta en <b>4FN</b> $\\rightarrow$ <b>S</b> esta en <b>3FN</b> $\\rightarrow$ <b>S</b> esta en <b>2FN</b> $\\rightarrow$ <b>S</b> esta en <b>1FN</b>"
   ]
  },
  {
   "cell_type": "markdown",
   "metadata": {},
   "source": [
    "En 1972 E. Codd propuso el concepto de <b>normalizacion</b> como el proceso a traves del cual se convierte un esquema de base de datos en uno equivalente (i.e que preserva toda la informacion) y que cumple con una determinada forma normal."
   ]
  },
  {
   "cell_type": "markdown",
   "metadata": {},
   "source": [
    "El objetivo es:\n",
    "- Preservar la informacion\n",
    "- Eliminar la redundancia\n",
    "- Evitar las anomalias de ABM"
   ]
  },
  {
   "cell_type": "markdown",
   "metadata": {},
   "source": [
    "<hr>"
   ]
  },
  {
   "cell_type": "markdown",
   "metadata": {},
   "source": [
    "### Primera forma normal (1FN) "
   ]
  },
  {
   "cell_type": "markdown",
   "metadata": {},
   "source": [
    "Decimos que un esquema de base de datos relacional esta en <b>primera forma normal (1FN)</b> cuando los dominios de todos sus atributos solo permiten valores atomicos (es decir, indivisibles) y monovaluados. Actualmente, se considera que en el modelo relacional todos los atributos deben ser monovaluados y atomicos. Con este criterio, todo esquema relacional esta ya en 1FN. Pero, como resolvemos si este no fuera el caso?"
   ]
  },
  {
   "cell_type": "markdown",
   "metadata": {},
   "source": [
    "<b>Situacion</b>:"
   ]
  },
  {
   "cell_type": "markdown",
   "metadata": {},
   "source": [
    "nombre_profesor|mail\n",
    "-|-\n",
    "Juan Gomes|{jgomez@udbc.com.ar, jgomez94@mibase.com}\n",
    "Roberta Casas|{rcasas@udbc.com.ar, rcasas@gmail.com}\n",
    "Irene Adler|{iadler@udbc.com.ar}"
   ]
  },
  {
   "cell_type": "markdown",
   "metadata": {},
   "source": [
    "<b>Solucion 1</b>: Colocar un mail por tupla y repetir el nombre del profesor"
   ]
  },
  {
   "cell_type": "markdown",
   "metadata": {},
   "source": [
    "nombre_profesor|mail\n",
    "-|-\n",
    "Juan Gomes|jgomez@udbc.com.ar\n",
    "Juan Gomes|jgomez94@mibase.com\n",
    "Roberta Casas|rcasas@udbc.com.ar\n",
    "Roberta Casas|rcasas@gmail.com\n",
    "Irene Adler|iadler@udbc.com.ar"
   ]
  },
  {
   "cell_type": "markdown",
   "metadata": {},
   "source": [
    "<b>Solucion 2</b>: Suponer un maximo posible M de mails y tener M atributos distintos reservados a tal fin. Para profesores que tienen menos de M mails, quedaran valores nulos."
   ]
  },
  {
   "cell_type": "markdown",
   "metadata": {},
   "source": [
    "nombre_profesor|mail1|mail2\n",
    "-|-|-\n",
    "Juan Gomes|jgomez@udbc.com.ar|jgomez94@mibase.com\n",
    "Roberta Casas|rcasas@udbc.com.ar|rcasas@gmail.com}\n",
    "Irene Adler|iadler@udbc.com.ar|NULL"
   ]
  },
  {
   "cell_type": "markdown",
   "metadata": {},
   "source": [
    "<hr>"
   ]
  },
  {
   "cell_type": "markdown",
   "metadata": {},
   "source": [
    "### Segunda forma normal (2FN) "
   ]
  },
  {
   "cell_type": "markdown",
   "metadata": {},
   "source": [
    "nombre_depto|nombre_profesor|asignatura\n",
    "-|-|-\n",
    "Fisica|Juan Gomez|Fisica 1\n",
    "Fisica|Roberto Casas|Fisica 2\n",
    "Fisica|Juan Gomez|Fisica 3\n",
    "Matematica|Roberta Casas|Topologia\n",
    "Matematica|Irene Adler|Algebra"
   ]
  },
  {
   "cell_type": "markdown",
   "metadata": {},
   "source": [
    "Identifiquemos las dependencias funcionales semanticas:"
   ]
  },
  {
   "cell_type": "markdown",
   "metadata": {},
   "source": [
    "<b>asignatura -> nombre_dpto</b>"
   ]
  },
  {
   "cell_type": "markdown",
   "metadata": {},
   "source": [
    "Existen otras dependencias funcionales que pueden deducirse de la anterior:"
   ]
  },
  {
   "cell_type": "markdown",
   "metadata": {},
   "source": [
    "<b>{nombre_profesor, asignatura} -> nombre_depto</b>"
   ]
  },
  {
   "cell_type": "markdown",
   "metadata": {},
   "source": [
    "Y otras que son <b>triviales</b>:"
   ]
  },
  {
   "cell_type": "markdown",
   "metadata": {},
   "source": [
    "<b>{nombre_profesor, asignatura} -> asignatura</b>"
   ]
  },
  {
   "cell_type": "markdown",
   "metadata": {},
   "source": [
    "Identifiquemos ahora las claves candidatas de la relacion:"
   ]
  },
  {
   "cell_type": "markdown",
   "metadata": {},
   "source": [
    "CK = {nombre_profesor, asignatura}"
   ]
  },
  {
   "cell_type": "markdown",
   "metadata": {},
   "source": [
    "Luego esta es la unica clave candidata, y por lo tanto sera la clave primaria."
   ]
  },
  {
   "cell_type": "markdown",
   "metadata": {},
   "source": [
    "Observemos que nombre_depto no depende de la clave primaria completa, sino solo de una parte. Decimos que la dependencia PK -> nombre_depto es una dependencia funcional parcial."
   ]
  }
 ],
 "metadata": {
  "kernelspec": {
   "display_name": "Python 3",
   "language": "python",
   "name": "python3"
  },
  "language_info": {
   "codemirror_mode": {
    "name": "ipython",
    "version": 3
   },
   "file_extension": ".py",
   "mimetype": "text/x-python",
   "name": "python",
   "nbconvert_exporter": "python",
   "pygments_lexer": "ipython3",
   "version": "3.7.6"
  }
 },
 "nbformat": 4,
 "nbformat_minor": 4
}
