{
 "cells": [
  {
   "cell_type": "markdown",
   "metadata": {},
   "source": [
    "# Teoria del Diseño Relacional"
   ]
  },
  {
   "cell_type": "markdown",
   "metadata": {},
   "source": [
    "## Parte 1: Formas Normales "
   ]
  },
  {
   "cell_type": "markdown",
   "metadata": {},
   "source": [
    "Criterios de un buen diseño relacional\n",
    "- Preservacion de la informacion\n",
    "- Redundancia minima"
   ]
  },
  {
   "cell_type": "markdown",
   "metadata": {},
   "source": [
    "Cuando se parte de un correcto diseño conceptual y se hace un correcto pasaje al modelo logico, se obtiene un esquema sin redundancia y se preserva toda la informacion del mundo real que se queria modelar."
   ]
  },
  {
   "cell_type": "markdown",
   "metadata": {},
   "source": [
    "Pero, como verificamos un esquema relacional? Como corregimos un esquema que fue mal diseñado?"
   ]
  },
  {
   "cell_type": "markdown",
   "metadata": {},
   "source": [
    "La <b>teoria del diseño relacional</b> formaliza estos requisitos a traves de las <b>formas normales</b>."
   ]
  },
  {
   "cell_type": "markdown",
   "metadata": {},
   "source": [
    "### Dependencia funcional"
   ]
  },
  {
   "cell_type": "markdown",
   "metadata": {},
   "source": [
    "Dada una relacion $R(A)$, una <b>dependencia funcional</b> X -> Y, con X, Y incluidos en A es una restriccion sobre las posibles tuplas de R que implica que dos tuplas con igual valor del conjunto de atributos X deben tambien tener igual valor del conjunto de atributos Y."
   ]
  },
  {
   "cell_type": "markdown",
   "metadata": {},
   "source": [
    "\\begin{equation}\n",
    "\\large \\forall_{s, t \\in  R} : s[X] = t[X] \\rightarrow s[Y] = t[Y]\n",
    "\\end{equation}"
   ]
  },
  {
   "cell_type": "markdown",
   "metadata": {},
   "source": [
    "La dependencia funcional $X \\rightarrow Y$ implica que hay una relacion funcional entre los valores de X y los de Y dentro de la base de datos."
   ]
  },
  {
   "cell_type": "markdown",
   "metadata": {},
   "source": [
    "Cuando $Y \\subset X$ decimos que $X \\rightarrow Y$ es trivial."
   ]
  },
  {
   "cell_type": "markdown",
   "metadata": {},
   "source": [
    "Las dependencias funcionales se definen a partir de la semantica de los datos. No es posible inferirlas viendo los datos."
   ]
  },
  {
   "cell_type": "markdown",
   "metadata": {},
   "source": [
    "### Formas Normales"
   ]
  },
  {
   "cell_type": "markdown",
   "metadata": {},
   "source": [
    "Las <b>formas normales</b> son una serie de estructuras con las que un esquema de base de datos puede cumplir o no."
   ]
  },
  {
   "cell_type": "markdown",
   "metadata": {},
   "source": [
    "Las formas normales clasicas son:"
   ]
  }
 ],
 "metadata": {
  "kernelspec": {
   "display_name": "Python 3",
   "language": "python",
   "name": "python3"
  },
  "language_info": {
   "codemirror_mode": {
    "name": "ipython",
    "version": 3
   },
   "file_extension": ".py",
   "mimetype": "text/x-python",
   "name": "python",
   "nbconvert_exporter": "python",
   "pygments_lexer": "ipython3",
   "version": "3.7.6"
  }
 },
 "nbformat": 4,
 "nbformat_minor": 4
}
