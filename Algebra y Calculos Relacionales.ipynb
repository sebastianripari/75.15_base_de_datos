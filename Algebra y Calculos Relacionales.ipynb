{
 "cells": [
  {
   "cell_type": "markdown",
   "metadata": {},
   "source": [
    "# Algebra y Calculos Relacionales"
   ]
  },
  {
   "cell_type": "markdown",
   "metadata": {},
   "source": [
    "Para interactuar con un modelo es necesario utilizar un <b>lenguaje</b>"
   ]
  },
  {
   "cell_type": "markdown",
   "metadata": {},
   "source": [
    "Los lenguajes que permiten extraer informacion de un modelo de datos se denominan <b>lenguajes de manipulacion de datos</b>, o <b>DML (Data Model Languages) </b>"
   ]
  },
  {
   "cell_type": "markdown",
   "metadata": {},
   "source": [
    "<img src=\"images/Lenguajes de manipulacion de datos.png\">"
   ]
  },
  {
   "cell_type": "markdown",
   "metadata": {},
   "source": [
    "Los lenguajes <b>procedurales</b> indican un procecedimiento a seguir, utilizando <b>operaciones</b> que indican como manipular los datos. Estos se coincideran de mas bajo nivel."
   ]
  },
  {
   "cell_type": "markdown",
   "metadata": {},
   "source": [
    "Los lenguajes <b>declarativos</b> indican que resultado se quiere obtener, sin especificar como hacerlo."
   ]
  },
  {
   "cell_type": "markdown",
   "metadata": {},
   "source": [
    "Existen los lenguajes <b>formales</b> y los <b>practicos</b>"
   ]
  },
  {
   "cell_type": "markdown",
   "metadata": {},
   "source": [
    "El lenguaje practico mas conocido es <b>SQL (Structured Query Language)</b>. Es declarativo."
   ]
  },
  {
   "cell_type": "markdown",
   "metadata": {},
   "source": [
    "Lenguajes formales:\n",
    "- <b>Algebra Relacional</b>, es procedural.\n",
    "- <b>Calculo Relacional</b>, es declarativo."
   ]
  },
  {
   "cell_type": "markdown",
   "metadata": {},
   "source": [
    "## Algebra Relacional"
   ]
  },
  {
   "cell_type": "markdown",
   "metadata": {},
   "source": [
    "Lenguaje procedural propuesto por <b>E.Codd</b> en 1970."
   ]
  },
  {
   "cell_type": "markdown",
   "metadata": {},
   "source": [
    "### Operaciones Basicas"
   ]
  },
  {
   "cell_type": "markdown",
   "metadata": {},
   "source": [
    "#### Seleccion"
   ]
  },
  {
   "cell_type": "markdown",
   "metadata": {},
   "source": [
    "El operador seleccion (σ) es un operador unario."
   ]
  },
  {
   "cell_type": "markdown",
   "metadata": {},
   "source": [
    "\\begin{equation}\n",
    "\\theta_{cond} : R \\rightarrow S\n",
    "\\end{equation}"
   ]
  },
  {
   "cell_type": "markdown",
   "metadata": {},
   "source": [
    "Dada una relacion R (A1, A2, ..., An) y una condicion que se aplica a cada tupla de R:"
   ]
  },
  {
   "cell_type": "markdown",
   "metadata": {},
   "source": [
    "\\begin{equation}\n",
    "\\theta_{cond} (R)\n",
    "\\end{equation}"
   ]
  },
  {
   "cell_type": "markdown",
   "metadata": {},
   "source": [
    "Selecciona aquellas tuplas de R para las cuales la condicion es verdadera."
   ]
  },
  {
   "cell_type": "markdown",
   "metadata": {},
   "source": [
    "\\begin{equation}\n",
    "\\large Peliculas\n",
    "\\end{equation}"
   ]
  },
  {
   "cell_type": "markdown",
   "metadata": {},
   "source": [
    "nombre_pelicula|año|nombre_director|cant_oscars<br>\n",
    "-|-|-|-|\n",
    "Kill Bill|2003|Quentin Tarantino|0|\n",
    "Django Unchained|2012|Quentin Tarantino|2|\n",
    "Star Wars|2005|George Lucas|0|\n",
    "Coco|2017|Lee Unkrich|2|"
   ]
  },
  {
   "cell_type": "markdown",
   "metadata": {},
   "source": [
    "\\begin{equation}\n",
    "\\large \\theta_{cantoscars > 1} (Peliculas)\n",
    "\\end{equation}"
   ]
  },
  {
   "cell_type": "markdown",
   "metadata": {},
   "source": [
    "nombre_pelicula|año|nombre_director|cant_oscars<br>\n",
    "-|-|-|-|\n",
    "Django Unchained|2012|Quentin Tarantino|2|\n",
    "Coco|2017|Lee Unkrich|2|"
   ]
  },
  {
   "cell_type": "markdown",
   "metadata": {},
   "source": [
    "#### Database Example (World Cup)"
   ]
  },
  {
   "cell_type": "markdown",
   "metadata": {},
   "source": [
    "https://dbis-uibk.github.io/relax/calc/gist/d617f36daeccd2135b124cd1a017429b"
   ]
  },
  {
   "cell_type": "markdown",
   "metadata": {},
   "source": [
    "##### Ejemplo: World Cup 2010"
   ]
  },
  {
   "cell_type": "markdown",
   "metadata": {},
   "source": [
    "Seleccionar aquellos jugadores del mundial que partenecen al club \"Barcelona [ESP]\" y nacieron antes de 1990."
   ]
  },
  {
   "cell_type": "markdown",
   "metadata": {},
   "source": [
    "\\begin{equation}\n",
    "\\large \\theta_{(local\\_club=\"Barcelona [ESP]\")\\wedge(birth\\_date <\"1990-01-01\")} (Player)\n",
    "\\end{equation}"
   ]
  },
  {
   "cell_type": "markdown",
   "metadata": {},
   "source": [
    "<hr>"
   ]
  },
  {
   "cell_type": "markdown",
   "metadata": {},
   "source": [
    "#### Proyeccion"
   ]
  },
  {
   "cell_type": "markdown",
   "metadata": {},
   "source": [
    "El operador de <b>proyeccion</b> $(\\pi)$ es tambien un unario."
   ]
  },
  {
   "cell_type": "markdown",
   "metadata": {},
   "source": [
    "\\begin{equation}\n",
    "\\large \\pi_{L}: R \\rightarrow S\n",
    "\\end{equation}"
   ]
  },
  {
   "cell_type": "markdown",
   "metadata": {},
   "source": [
    "Dada una relacion $R(A_1, A_2, ..., A_n)$ y una lista de atributos $L = (L_1, L_2, ..., L_k)$, con $L_i \\in (A_1, A_2, ..., A_n)$, $\\pi_L(R)$ devuelve una relacion cuyas tuplas representan los posibles valores de los atributos de L en R."
   ]
  },
  {
   "cell_type": "markdown",
   "metadata": {},
   "source": [
    "Podemos pensar que lo que hace es proyectar cada tupla de R a un espacio de menor dimension en que solo se conservan los atributos que estan en L."
   ]
  },
  {
   "cell_type": "markdown",
   "metadata": {},
   "source": [
    "\\begin{equation}\n",
    "\\large Peliculas\n",
    "\\end{equation}"
   ]
  },
  {
   "cell_type": "markdown",
   "metadata": {},
   "source": [
    "nombre_pelicula|año|nombre_director|cant_oscars<br>\n",
    "-|-|-|-|\n",
    "Kill Bill|2003|Quentin Tarantino|0|\n",
    "Django Unchained|2012|Quentin Tarantino|2|\n",
    "Star Wars|2005|George Lucas|0|\n",
    "Coco|2017|Lee Unkrich|2|"
   ]
  },
  {
   "cell_type": "markdown",
   "metadata": {},
   "source": [
    "\\begin{equation}\n",
    "\\large \\pi_{nombre\\_director} (Peliculas)\n",
    "\\end{equation}"
   ]
  },
  {
   "cell_type": "markdown",
   "metadata": {},
   "source": [
    "|nombre_director<br>\n",
    "|-|\n",
    "|Quentin Tarantino|\n",
    "|Quentin Tarantino|\n",
    "|George Lucas|\n",
    "|Lee Unkrich|"
   ]
  },
  {
   "cell_type": "markdown",
   "metadata": {},
   "source": [
    "El operador de proyeccion siempre remueve tuplas duplicadas, ya que su resultado debe ser tambien una relacion valida. "
   ]
  },
  {
   "cell_type": "markdown",
   "metadata": {},
   "source": [
    "##### Ejemplo: World Cup 2010"
   ]
  },
  {
   "cell_type": "markdown",
   "metadata": {},
   "source": [
    "Liste las posiciones de juego de los jugadores"
   ]
  },
  {
   "cell_type": "markdown",
   "metadata": {},
   "source": [
    "Repuesta:"
   ]
  },
  {
   "cell_type": "markdown",
   "metadata": {},
   "source": [
    "\\begin{equation}\n",
    "\\large \\pi_{playing\\_position} (Player)\n",
    "\\end{equation}"
   ]
  },
  {
   "cell_type": "markdown",
   "metadata": {},
   "source": [
    "##### Ejemplo: Listar directores que han ganado un oscar"
   ]
  },
  {
   "cell_type": "markdown",
   "metadata": {},
   "source": [
    "\\begin{equation}\n",
    "\\large Peliculas\n",
    "\\end{equation}"
   ]
  },
  {
   "cell_type": "markdown",
   "metadata": {},
   "source": [
    "nombre_pelicula|año|nombre_director|cant_oscars<br>\n",
    "-|-|-|-|\n",
    "Kill Bill|2003|Quentin Tarantino|0|\n",
    "Django Unchained|2012|Quentin Tarantino|2|\n",
    "Star Wars|2005|George Lucas|0|\n",
    "Coco|2017|Lee Unkrich|2|"
   ]
  },
  {
   "cell_type": "markdown",
   "metadata": {},
   "source": [
    "Respuesta:"
   ]
  },
  {
   "cell_type": "markdown",
   "metadata": {},
   "source": [
    "\\begin{equation}\n",
    "\\large Temp \\leftarrow \\theta_{cant\\_oscard > 0} (Peliculas)\n",
    "\\end{equation}"
   ]
  },
  {
   "cell_type": "markdown",
   "metadata": {},
   "source": [
    "\\begin{equation}\n",
    "\\large Directores\\_Oscar \\leftarrow \\pi_{nombre\\_director > 0} (Peliculas)\n",
    "\\end{equation}"
   ]
  },
  {
   "cell_type": "markdown",
   "metadata": {},
   "source": [
    "Otra respuesta:"
   ]
  },
  {
   "cell_type": "markdown",
   "metadata": {},
   "source": [
    "\\begin{equation}\n",
    "\\large Directores\\_Oscar \\leftarrow \\pi_{nombre\\_director > 0} (\\theta_{cant\\_oscard > 0} (Peliculas))\n",
    "\\end{equation}"
   ]
  },
  {
   "cell_type": "markdown",
   "metadata": {},
   "source": [
    "<hr>"
   ]
  },
  {
   "cell_type": "markdown",
   "metadata": {},
   "source": [
    "#### Redenominacion"
   ]
  },
  {
   "cell_type": "markdown",
   "metadata": {},
   "source": [
    "El operador de <b>redenominacion $(\\rho)$</b> permite modificar los nombres de los atributos de una relacion y/o el nombre de la relacion misma."
   ]
  },
  {
   "cell_type": "markdown",
   "metadata": {},
   "source": [
    "\\begin{equation}\n",
    "\\large Peliculas\n",
    "\\end{equation}"
   ]
  },
  {
   "cell_type": "markdown",
   "metadata": {},
   "source": [
    "nombre_pelicula|cant_oscars<br>\n",
    "-|-|\n",
    "Kill Bill|0|\n",
    "Django Unchained|2|\n",
    "Star Wars|0|\n",
    "Coco|2|"
   ]
  },
  {
   "cell_type": "markdown",
   "metadata": {},
   "source": [
    "\\begin{equation}\n",
    "\\large \\rho_{Films(film\\_name, n\\_oscars)}\n",
    "\\end{equation}"
   ]
  },
  {
   "cell_type": "markdown",
   "metadata": {},
   "source": [
    "\\begin{equation}\n",
    "\\large Films\n",
    "\\end{equation}"
   ]
  },
  {
   "cell_type": "markdown",
   "metadata": {},
   "source": [
    "film_name|n_oscars<br>\n",
    "-|-|\n",
    "Kill Bill|0|\n",
    "Django Unchained|2|\n",
    "Star Wars|0|\n",
    "Coco|2|"
   ]
  },
  {
   "cell_type": "markdown",
   "metadata": {},
   "source": [
    "<hr>"
   ]
  },
  {
   "cell_type": "markdown",
   "metadata": {},
   "source": [
    "### Operaciones de conjuntos"
   ]
  },
  {
   "cell_type": "markdown",
   "metadata": {},
   "source": [
    "<hr>"
   ]
  },
  {
   "cell_type": "markdown",
   "metadata": {},
   "source": [
    "### Diferencia"
   ]
  },
  {
   "cell_type": "markdown",
   "metadata": {},
   "source": [
    "Dadas dos relaciones $R(A_1, A_2, ..., A_n)$ y $S(A_1, A_2, ..., A_n)$, la <b>diferencia</b> R - S conserva solo aquellas tuplas de R que no pertenecen a S."
   ]
  },
  {
   "cell_type": "markdown",
   "metadata": {},
   "source": [
    "R y S deben tener el mismo grado. Y requiere compatibilidad de tipo."
   ]
  },
  {
   "cell_type": "markdown",
   "metadata": {},
   "source": [
    "\\begin{equation}\n",
    "\\large USUARIOS1\n",
    "\\end{equation}"
   ]
  },
  {
   "cell_type": "markdown",
   "metadata": {},
   "source": [
    "id1|nombre1<br>\n",
    "-|-|\n",
    "3|Juan|\n",
    "5|Martin|\n",
    "18|Marta|"
   ]
  },
  {
   "cell_type": "markdown",
   "metadata": {},
   "source": [
    "\\begin{equation}\n",
    "\\large USUARIOS2\n",
    "\\end{equation}"
   ]
  },
  {
   "cell_type": "markdown",
   "metadata": {},
   "source": [
    "id2|nombre2<br>\n",
    "-|-|\n",
    "7|Marta|\n",
    "5|Martin|"
   ]
  },
  {
   "cell_type": "markdown",
   "metadata": {},
   "source": [
    "\\begin{equation}\n",
    "\\large USUARIOS1 - USUARIOS2\n",
    "\\end{equation}"
   ]
  },
  {
   "cell_type": "markdown",
   "metadata": {},
   "source": [
    "id1|nombre1<br>\n",
    "-|-|\n",
    "3|Juan|\n",
    "18|Marta|"
   ]
  },
  {
   "cell_type": "markdown",
   "metadata": {},
   "source": [
    "<hr>"
   ]
  },
  {
   "cell_type": "markdown",
   "metadata": {},
   "source": [
    "### Producto Cartesiano"
   ]
  },
  {
   "cell_type": "markdown",
   "metadata": {},
   "source": [
    "Dadas dos relaciones $R(A_1, A_2, ..., A_n)$ y $S(B_1, B_2, ..., B_m)$ el <b>producto cartesiano</b> R x S produce una nueva relacion T."
   ]
  },
  {
   "cell_type": "markdown",
   "metadata": {},
   "source": [
    "El esquema de la relacion resultante T es $T(A_1, A_2, ..., A_n, B_1, B_2, ..., B_m)$"
   ]
  },
  {
   "cell_type": "markdown",
   "metadata": {},
   "source": [
    "Si algun atributo esta repetido en ambas relaciones para identificarlas vamos a hacer lo siguiente:"
   ]
  },
  {
   "cell_type": "markdown",
   "metadata": {},
   "source": [
    "Supongamos que los repetidos son los siguientes dos $A_i$ y $B_i$, bueno para identificarlos en la nueva relacion haremos lo siguiente, indicaremos de que relacion provinieron: $R.A_i$ y $R.B_i$."
   ]
  },
  {
   "cell_type": "markdown",
   "metadata": {},
   "source": [
    "\\begin{equation}\n",
    "\\large PELICULAS\n",
    "\\end{equation}"
   ]
  },
  {
   "cell_type": "markdown",
   "metadata": {},
   "source": [
    "nombre_pelicula|nombre_director<br>\n",
    "-|-|\n",
    "Kill Bill|Quentin Tarantino|\n",
    "Django Unchained|Quentin Tarantino|\n",
    "Star Wars|George Lucas|\n",
    "Coco|Lee Unkrich|"
   ]
  },
  {
   "cell_type": "markdown",
   "metadata": {},
   "source": [
    "\\begin{equation}\n",
    "\\large ACTUACIONES\n",
    "\\end{equation}"
   ]
  },
  {
   "cell_type": "markdown",
   "metadata": {},
   "source": [
    "nombre_pelicula|nombre_actor<br>\n",
    "-|-|\n",
    "Kill Bill|Uma Thurman|\n",
    "Star Wars|Natalie Portman|"
   ]
  },
  {
   "cell_type": "markdown",
   "metadata": {},
   "source": [
    "\\begin{equation}\n",
    "\\large PELICULAS x ACTUACIONES\n",
    "\\end{equation}"
   ]
  },
  {
   "cell_type": "markdown",
   "metadata": {},
   "source": [
    "Peliculas.nombre_pelicula|nombre_director|Actuaciones.nombre_pelicula|nombre_actor<br>\n",
    "-|-|-|-|\n",
    "Kill Bill|Quentin Tarantino|Kill Bill|Uma Thurman|\n",
    "Kill Bill|Quentin Tarantino|Star Wars|Natalie Portman|\n",
    "Django Unchained|Quentin Tarantino|Kill Bill|Uma Thurman|\n",
    "Django Unchained|Quentin Tarantino|Star Wars|Natalie Portman|\n",
    "Star Wars|George Lucas|Kill Bill|Uma Thurman|\n",
    "Star Wars|George Lucas|Star Wars|Natalie Portman|\n",
    "Coco|Lee Unkrich|Kill Bill|Uma Thurman|\n",
    "Coco|Lee Unkrich|Star Wars|Natalie Portman|"
   ]
  }
 ],
 "metadata": {
  "kernelspec": {
   "display_name": "Python 3",
   "language": "python",
   "name": "python3"
  },
  "language_info": {
   "codemirror_mode": {
    "name": "ipython",
    "version": 3
   },
   "file_extension": ".py",
   "mimetype": "text/x-python",
   "name": "python",
   "nbconvert_exporter": "python",
   "pygments_lexer": "ipython3",
   "version": "3.7.6"
  }
 },
 "nbformat": 4,
 "nbformat_minor": 4
}
