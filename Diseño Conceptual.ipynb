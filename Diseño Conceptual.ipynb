{
 "cells": [
  {
   "cell_type": "markdown",
   "metadata": {},
   "source": [
    "# Base de datos"
   ]
  },
  {
   "cell_type": "markdown",
   "metadata": {},
   "source": [
    "## Diseño Conceptual"
   ]
  },
  {
   "cell_type": "markdown",
   "metadata": {},
   "source": [
    "Un modelo de datos incluye: <br>\n",
    "- Un conjunto de <b>objetos</b>, sus <b>propiedades</b> y sus <b>interrelaciones</b>.\n",
    "- Un conjunto de <b>operaciones</b>, o lenguaje que permite manipular los datos.\n",
    "- <b>Restricciones</b> sobre los objetos, las interrelaciones y las operaciones. "
   ]
  },
  {
   "cell_type": "markdown",
   "metadata": {},
   "source": [
    "Nosotros estudiaremos el modelo Entidad-Interrelacion"
   ]
  },
  {
   "cell_type": "markdown",
   "metadata": {},
   "source": [
    "## Modelo Entidad-Interrelacion (ER)"
   ]
  },
  {
   "cell_type": "markdown",
   "metadata": {},
   "source": [
    "Definido por <b>Peter Chen</b>"
   ]
  },
  {
   "cell_type": "markdown",
   "metadata": {},
   "source": [
    "Este modelo se compone de:"
   ]
  },
  {
   "cell_type": "markdown",
   "metadata": {},
   "source": [
    "- <b>Atributos</b>: Son los <b>valores</b> particulares de la entidad.\n",
    "- <b>Entidades</b>: Cada entidad es un modelo de un objeto de la realidad.\n",
    "- <b>Interrelaciones</b>: Son las relaciones entre las entidades."
   ]
  },
  {
   "cell_type": "markdown",
   "metadata": {},
   "source": [
    "Observacion: diferentes instancias de la misma entidad deberian un subconjunto de atributos es que es diferente del resto, esto es para que podamos diferenciarlas, estos atributos son los <b>atributos claves</b> o <b>indentificadores unicos</b>. Sino existen debemos crear el famoso atributo <b>id</b>."
   ]
  },
  {
   "cell_type": "markdown",
   "metadata": {},
   "source": [
    "### Ejemplo:  de un modelo simple"
   ]
  },
  {
   "cell_type": "markdown",
   "metadata": {},
   "source": [
    "Tenemos el ejemplo de entidad \"pais\" que tiene como atributos nombre, poblacion y superficie."
   ]
  },
  {
   "cell_type": "markdown",
   "metadata": {},
   "source": [
    "<img src=\"images/Ejemplo Modelo Identidad-Interrelacion.png\">"
   ]
  },
  {
   "cell_type": "markdown",
   "metadata": {},
   "source": [
    "### Ejemplo: atributo clave nombre"
   ]
  },
  {
   "attachments": {},
   "cell_type": "markdown",
   "metadata": {},
   "source": [
    "<img src=\"images/Ejemplo Modelo Identidad-Interrelacion Atributos Claves.png\">"
   ]
  },
  {
   "cell_type": "code",
   "execution_count": null,
   "metadata": {},
   "outputs": [],
   "source": []
  }
 ],
 "metadata": {
  "kernelspec": {
   "display_name": "Python 3",
   "language": "python",
   "name": "python3"
  },
  "language_info": {
   "codemirror_mode": {
    "name": "ipython",
    "version": 3
   },
   "file_extension": ".py",
   "mimetype": "text/x-python",
   "name": "python",
   "nbconvert_exporter": "python",
   "pygments_lexer": "ipython3",
   "version": "3.7.6"
  }
 },
 "nbformat": 4,
 "nbformat_minor": 4
}
