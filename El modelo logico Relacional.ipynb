{
 "cells": [
  {
   "cell_type": "markdown",
   "metadata": {},
   "source": [
    "# El modelo logico Relacional"
   ]
  },
  {
   "cell_type": "markdown",
   "metadata": {},
   "source": [
    "Las based de datos relacionales se basan en un modelo logico introducido por Codd en 1970 conocido como <b>Modelo Relacional</b>."
   ]
  },
  {
   "cell_type": "markdown",
   "metadata": {},
   "source": [
    "El mismo es una formalizacion matematica basada en el concepto de <b>Relacion</b>."
   ]
  },
  {
   "cell_type": "markdown",
   "metadata": {},
   "source": [
    "<hr>"
   ]
  },
  {
   "cell_type": "markdown",
   "metadata": {},
   "source": [
    "## Definiciones Matematicas:"
   ]
  },
  {
   "cell_type": "markdown",
   "metadata": {},
   "source": [
    "### Dominio"
   ]
  },
  {
   "cell_type": "markdown",
   "metadata": {},
   "source": [
    "Es un conjunto de valores homogeneos."
   ]
  },
  {
   "cell_type": "markdown",
   "metadata": {},
   "source": [
    "<b>Ejemplo</b>:"
   ]
  },
  {
   "cell_type": "markdown",
   "metadata": {},
   "source": [
    "D1 = {Barcelona, Sevilla, Buenos Aires}<br>\n",
    "D2 = {Argentina, España, Chile}"
   ]
  },
  {
   "cell_type": "markdown",
   "metadata": {},
   "source": [
    "### Producto Cartesiano"
   ]
  },
  {
   "cell_type": "markdown",
   "metadata": {},
   "source": [
    "A x B son todas las combinaciones de pares, en el ejemplo seria:"
   ]
  },
  {
   "cell_type": "markdown",
   "metadata": {},
   "source": [
    "D1 x D2 = {{(Barcelona, Argentina), (Barcelona,\n",
    "España), (Barcelona, Chile), (Sevilla, Argentina), (Sevilla, España),\n",
    "(Sevilla, Chile),(Buenos Aires, Argentina), (Buenos Aires, España),\n",
    "(Buenos Aires, Chile)}"
   ]
  },
  {
   "cell_type": "markdown",
   "metadata": {},
   "source": [
    "### Relacion"
   ]
  },
  {
   "cell_type": "markdown",
   "metadata": {},
   "source": [
    "Es un subconjunto del producto cartesiano"
   ]
  },
  {
   "cell_type": "markdown",
   "metadata": {},
   "source": [
    "<b>Ejemplo</b>:"
   ]
  },
  {
   "cell_type": "markdown",
   "metadata": {},
   "source": [
    "R = {(Barcelona, España), (Sevilla, España), (Buenos\n",
    "Aires, Argentina)}"
   ]
  },
  {
   "cell_type": "markdown",
   "metadata": {},
   "source": [
    "<hr>"
   ]
  },
  {
   "cell_type": "markdown",
   "metadata": {},
   "source": [
    "## Esquema de Relacion"
   ]
  },
  {
   "cell_type": "markdown",
   "metadata": {},
   "source": [
    "En <b>nombre de relacion</b> junto con una <b>lista de atributos</b> se denomina <b>esquema de relacion</b> y se denota de la siguiente manera:"
   ]
  },
  {
   "cell_type": "raw",
   "metadata": {},
   "source": [
    "R (A1, A2, ... , An)"
   ]
  },
  {
   "cell_type": "markdown",
   "metadata": {},
   "source": [
    "<b>Ejemplo:</b>"
   ]
  },
  {
   "cell_type": "raw",
   "metadata": {},
   "source": [
    "Películas (nombre_película, año, nombre_director, cant_oscars)"
   ]
  },
  {
   "cell_type": "markdown",
   "metadata": {},
   "source": [
    "Cada uno de los atributos de un esquema de relacion esta asociado a un <b>dominio</b> particular."
   ]
  },
  {
   "cell_type": "markdown",
   "metadata": {},
   "source": [
    "El dominio de un atributo Ai se denomina dom(Ai)"
   ]
  },
  {
   "cell_type": "markdown",
   "metadata": {},
   "source": [
    "En nuestro ejemplo de peliculas seria:"
   ]
  },
  {
   "cell_type": "raw",
   "metadata": {},
   "source": [
    "nombre_de_pelicula -> dom(nombre_de_pelicula) = string"
   ]
  },
  {
   "cell_type": "raw",
   "metadata": {},
   "source": [
    "año -> dom(año) = N+"
   ]
  },
  {
   "cell_type": "markdown",
   "metadata": {},
   "source": [
    "### Grado"
   ]
  },
  {
   "cell_type": "markdown",
   "metadata": {},
   "source": [
    "El <b>grado</b> de una relacion es la cantidad de atributos que posee su esquema."
   ]
  },
  {
   "cell_type": "raw",
   "metadata": {},
   "source": [
    "La relacion Peliculas tiene grado 4."
   ]
  },
  {
   "cell_type": "markdown",
   "metadata": {},
   "source": [
    "### Tupla"
   ]
  },
  {
   "cell_type": "markdown",
   "metadata": {},
   "source": [
    "Es un elemento de una relacion."
   ]
  },
  {
   "cell_type": "raw",
   "metadata": {},
   "source": [
    "t = (Kill Bill, 2003, Quetin Tarantino, 0)"
   ]
  },
  {
   "cell_type": "markdown",
   "metadata": {},
   "source": [
    "### Representacion usando una tabla"
   ]
  },
  {
   "cell_type": "markdown",
   "metadata": {},
   "source": [
    "Una forma util de representar una relacion es usando una <b>tabla</b> en las que las <b>columnas</b> representan los <b>atributos</b> y las filas representan las <b>tuplas</b>."
   ]
  },
  {
   "cell_type": "markdown",
   "metadata": {},
   "source": [
    "Siguendo el ejemplo de las peliculas:"
   ]
  },
  {
   "cell_type": "markdown",
   "metadata": {},
   "source": [
    "nombre_pelicula|año|nombre_director|cant_oscars<br>\n",
    "-|-|-|-|\n",
    "Kill Bill|2003|Quentin Tarantino|0|\n",
    "Django Unchained|2012|Quentin Tarantino|2|\n",
    "Star Wars|2005|George Lucas|0|\n",
    "El Cisne Negro|2010|Darren Aronofsky|1|"
   ]
  },
  {
   "cell_type": "markdown",
   "metadata": {},
   "source": [
    "### Estructura "
   ]
  },
  {
   "cell_type": "markdown",
   "metadata": {},
   "source": [
    "Las relaciones del modelo relacional representan generalmente <b>entidades</b> o <b>interrelaciones</b> de nuestro modelo de datos."
   ]
  },
  {
   "cell_type": "markdown",
   "metadata": {},
   "source": [
    "### Restricciones"
   ]
  },
  {
   "cell_type": "markdown",
   "metadata": {},
   "source": [
    "#### Dominio "
   ]
  },
  {
   "cell_type": "markdown",
   "metadata": {},
   "source": [
    "Dado un atributo A de una relacion R, el valor del atributo en una tupla t debe pertenecer al dom(A)."
   ]
  },
  {
   "cell_type": "markdown",
   "metadata": {},
   "source": [
    "<b>Ejemplos</b>:"
   ]
  },
  {
   "cell_type": "markdown",
   "metadata": {},
   "source": [
    "- N, N+, R, R+\n",
    "- Caracter, string, valor booleano, fecha, conjunto finito (categorias)."
   ]
  },
  {
   "cell_type": "markdown",
   "metadata": {},
   "source": [
    "#### NULL"
   ]
  },
  {
   "cell_type": "markdown",
   "metadata": {},
   "source": [
    "Es posible que algunos de los atributos de una tupla tomen un <b>valor nulo (NULL)</b>."
   ]
  },
  {
   "cell_type": "markdown",
   "metadata": {},
   "source": [
    "#### Tuplas repetidas"
   ]
  },
  {
   "cell_type": "markdown",
   "metadata": {},
   "source": [
    "No puede haber dos tuplas distintas que coincidan en todos sus atributos "
   ]
  },
  {
   "cell_type": "markdown",
   "metadata": {},
   "source": [
    "Existe un subconjunto <b>SK</b> del conjunto de atributos (A1, A2, ..., An) de R que cumple la condicion de que dadas dos tuplas s, t perteneciente a R las mismas difieren en al menos uno de los atributos de <b>SK</b>."
   ]
  },
  {
   "cell_type": "markdown",
   "metadata": {},
   "source": [
    "Cuando un subconjunto <b>SK</b> cumple este propiedad, diremos que <b>SK</b> es una <b>superclave</b> de R."
   ]
  },
  {
   "cell_type": "markdown",
   "metadata": {},
   "source": [
    "Nos interesan aquellas <b>claves</b> que son <b>minimales</b>, estas son las que no cuentan con un subconjunto que cumpla esta propiedad. A estas las llamaremos <b>claves candidatas</b> o simplemente <b>claves</b>."
   ]
  },
  {
   "cell_type": "markdown",
   "metadata": {},
   "source": [
    "De entre todas las claves candidatas eligiremos una como <b>clave primaria</b> de la relacion. <b>La indicaremos subrayada</b>"
   ]
  },
  {
   "cell_type": "markdown",
   "metadata": {},
   "source": [
    "<b>Ejemplo</b>:"
   ]
  },
  {
   "cell_type": "raw",
   "metadata": {},
   "source": [
    "Peliculas (nombre_pelicula, año, nombre_director, cant_oscars)"
   ]
  },
  {
   "cell_type": "markdown",
   "metadata": {},
   "source": [
    "Si suponemos que no puede haber dos peliculas con el mismo nombre, entonces <b>nombre_pelicula</b> es <b>clave candidata</b>. Al ser la unica, no hay opciones, entonces la designamos como <b>clave primaria</b>. Entonces queda:"
   ]
  },
  {
   "cell_type": "markdown",
   "metadata": {},
   "source": [
    "Peliculas (<u>nombre_pelicula</u>, año, nombre_director, cant_oscard)"
   ]
  }
 ],
 "metadata": {
  "kernelspec": {
   "display_name": "Python 3",
   "language": "python",
   "name": "python3"
  },
  "language_info": {
   "codemirror_mode": {
    "name": "ipython",
    "version": 3
   },
   "file_extension": ".py",
   "mimetype": "text/x-python",
   "name": "python",
   "nbconvert_exporter": "python",
   "pygments_lexer": "ipython3",
   "version": "3.7.6"
  }
 },
 "nbformat": 4,
 "nbformat_minor": 4
}
