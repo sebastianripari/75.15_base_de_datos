{
 "cells": [
  {
   "cell_type": "markdown",
   "metadata": {},
   "source": [
    "# Structured Query Language (SQL)"
   ]
  },
  {
   "cell_type": "markdown",
   "metadata": {},
   "source": [
    "Recordemos que los <b>lenguajes</b> son las herramientas a traves de las cuales interactuamos con los modelos de datos."
   ]
  },
  {
   "cell_type": "markdown",
   "metadata": {},
   "source": [
    "En el contexto de base de datos los lenguajes se dividen en varios tipos:\n",
    "- De <b>definicion de datos</b>: Nos permiten expresar la estructura y las restricciones de nuestro modelo de datos.\n",
    "- De <b>manipulacion de datos</b>: Nos permiten ingresar, modificar, eliminar y consultar datos en nuestro modelo.\n",
    "- De <b>control de datos</b>: Manejan cuestiones vinculadas con los permisos de acceso a los datos."
   ]
  },
  {
   "cell_type": "markdown",
   "metadata": {},
   "source": [
    "Hoy en dia el lenguaje <b>SQL</b> es el estandar para la operacion de bases de datos relacionales."
   ]
  },
  {
   "cell_type": "markdown",
   "metadata": {},
   "source": [
    "Es tanto un lenguaje de definicion de datos (DDL) como de manipulacion de datos (DML)."
   ]
  },
  {
   "cell_type": "markdown",
   "metadata": {},
   "source": [
    "Modelo Relacional|SQL\n",
    "-|-\n",
    "Relacion|Tabla\n",
    "Tupla|Fila\n",
    "Atributo|Columna"
   ]
  },
  {
   "cell_type": "markdown",
   "metadata": {},
   "source": [
    "Supongamos que queremos obtener las peliculas que ganaron al menos un oscard."
   ]
  },
  {
   "cell_type": "markdown",
   "metadata": {},
   "source": [
    "## Ejemplo"
   ]
  },
  {
   "cell_type": "markdown",
   "metadata": {},
   "source": [
    "\\begin{equation}\n",
    "\\large Peliculas\n",
    "\\end{equation}"
   ]
  },
  {
   "cell_type": "markdown",
   "metadata": {},
   "source": [
    "nombre_pelicula|año|nombre_director|cant_oscars\n",
    "-|-|-|-\n",
    "Kill Bill|2003|Quentin Tarantino|0\n",
    "Django Unchained|2012|Quentin Tarantino|2\n",
    "Star Wars|2005|George Lucas|0\n",
    "Coco|2017|Lee Unkrich|2"
   ]
  },
  {
   "cell_type": "markdown",
   "metadata": {},
   "source": [
    "<b>SELECT</b> *<br>\n",
    "<b>FROM</b> Peliculas<br>\n",
    "<b>WHERE</b> cant_oscars > 0;"
   ]
  },
  {
   "cell_type": "markdown",
   "metadata": {},
   "source": [
    "nombre_pelicula|año|nombre_director|cant_oscars\n",
    "-|-|-|-\n",
    "Django Unchained|2012|Quentin Tarantino|2\n",
    "Coco|2017|Lee Unkrich|2"
   ]
  },
  {
   "cell_type": "markdown",
   "metadata": {},
   "source": [
    "<hr>"
   ]
  },
  {
   "cell_type": "markdown",
   "metadata": {},
   "source": [
    "La version original de SQL se denomina <b>SEQUEL</b> (structured english query language) y fue desarrollada por IBM Research (1974). Fue implementado en el System R de IBM (1977). El primer producto comercial basado en SEQUEL fue <b>Oracle</b> (1979)."
   ]
  },
  {
   "cell_type": "markdown",
   "metadata": {},
   "source": [
    "<hr>"
   ]
  },
  {
   "cell_type": "markdown",
   "metadata": {},
   "source": [
    "## Especificacion"
   ]
  },
  {
   "cell_type": "markdown",
   "metadata": {},
   "source": [
    "<hr>"
   ]
  },
  {
   "cell_type": "markdown",
   "metadata": {},
   "source": [
    "### Creacion de una Base de Datos"
   ]
  },
  {
   "cell_type": "markdown",
   "metadata": {},
   "source": [
    "El comando <b>CREATE SCHEMA</b> nos permite crear un nuevo esquema de base de datos dentro de nuestro SGBD (Sistema de Gestion de base de datos)"
   ]
  },
  {
   "cell_type": "markdown",
   "metadata": {},
   "source": [
    "Sintaxis:"
   ]
  },
  {
   "cell_type": "markdown",
   "metadata": {},
   "source": [
    "<b>CREATE SCHEMA</b> nombre_schema [ <b>AUTHORIZATION</b> AuthId];"
   ]
  },
  {
   "cell_type": "markdown",
   "metadata": {},
   "source": [
    "Ejemplo:"
   ]
  },
  {
   "cell_type": "markdown",
   "metadata": {},
   "source": [
    "<b>CREATE SCHEMA</b> empresa [ <b>AUTHORIZATION</b> mbeiro];"
   ]
  },
  {
   "cell_type": "markdown",
   "metadata": {},
   "source": [
    "- La opcion <b>AUTHORIZATION</b> identifica quien sera el <b>dueño</b> del esquema.\n",
    "- En un entorno SQL pueden haber varios esquemas de bases de datos. Los esquemas se agrupan en colecciones denominadas <b>catalogos</b>.\n",
    "- Todo catalogo contiene un esquema llamado <b>INFORMATION SCHEMA</b>, que describe a todos los demas esquemas contenidos en el."
   ]
  },
  {
   "cell_type": "markdown",
   "metadata": {},
   "source": [
    "<hr>"
   ]
  },
  {
   "cell_type": "markdown",
   "metadata": {},
   "source": [
    "### Tipos de variables en SQL"
   ]
  },
  {
   "cell_type": "markdown",
   "metadata": {},
   "source": [
    "Tipos <b>numericos</b> estandar:"
   ]
  },
  {
   "cell_type": "markdown",
   "metadata": {},
   "source": [
    "- <b>INTEGER</b>: Tipo entero. Abreviado <b>INT</b>.\n",
    "- <b>SMALLINT</b>: Tipo entero pequeño.\n",
    "- <b>FLOAT (n)</b>: Tipo numerico aproximado. n indica la precision en bits.\n",
    "- <b>DOUBLE PRECISION</b>: Tipo numerico aproximado de alta precision.\n",
    "- <b>NUMERIC (i, j)</b>: Tipo numerico exacto. Permite especificar la precision (i) y la escala (j) en digitos."
   ]
  },
  {
   "cell_type": "markdown",
   "metadata": {},
   "source": [
    "<b>Strings</b>: Se delimitan con comillas simples (')"
   ]
  },
  {
   "cell_type": "markdown",
   "metadata": {},
   "source": [
    "- <b>CHARACTER (n)</b>: De logitud fija. Abreviado <b>CHAR (n)</b>\n",
    "- <b>CHARACTER VARYING (n)</b>: De longitud variable. Abrev. <b>VARCHAR (n)</b>"
   ]
  },
  {
   "cell_type": "markdown",
   "metadata": {},
   "source": [
    "Fecha y hora:\n",
    "- <b>DATE</b>: Precision de dias. Se ingresa como string con formato YYYY-MM-DD.\n",
    "- <b>TIME (i)</b>: Precision de hasta microsegundos. Se ingresa como string con formato HH:MM:SS.[0-9] (ISO 8601). Tantos digitos decimales como i.\n",
    "- <b>TIMESTAMP (i)</b>: Combina un DATE y un TIME(i)"
   ]
  },
  {
   "cell_type": "markdown",
   "metadata": {},
   "source": [
    "Booleanos:\n",
    "- <b>BOOLEAN</b>: TRUE, FALSE o UNKNOWN. Se emplea logica de tres valores."
   ]
  },
  {
   "cell_type": "markdown",
   "metadata": {},
   "source": [
    "Otros tipos:\n",
    "- <b>CLOB</b>: (Character Large Object) Para documentos de texto de gran extension.\n",
    "- <b>BLOB</b>: (Binary Large Object) Para archivos binarios de gran extension."
   ]
  },
  {
   "cell_type": "markdown",
   "metadata": {},
   "source": [
    "Tipos definidos por el usuario:<br>\n",
    "<b>CREATE DOMAIN</b> NOMBRE_DOMINIO <b>AS</b> TIPO_BASICO;"
   ]
  },
  {
   "cell_type": "markdown",
   "metadata": {},
   "source": [
    "Ejemplo:"
   ]
  },
  {
   "cell_type": "markdown",
   "metadata": {},
   "source": [
    "<b>CREATE DOMAIN</b> CODIGO_PAIS <b>AS CHAR</b>(2);"
   ]
  },
  {
   "cell_type": "markdown",
   "metadata": {},
   "source": [
    "Este tipo facilita la realizacion de cambios futuros en el diseño."
   ]
  },
  {
   "cell_type": "markdown",
   "metadata": {},
   "source": [
    "<hr>"
   ]
  },
  {
   "cell_type": "markdown",
   "metadata": {},
   "source": [
    "### Creacion de una tabla"
   ]
  },
  {
   "cell_type": "markdown",
   "metadata": {},
   "source": [
    "El comando <b>CREATE TABLE</b> nos permite definir la estructura de una tabla:"
   ]
  },
  {
   "cell_type": "markdown",
   "metadata": {},
   "source": [
    "<b>CREATE TABLE</b> Persona (<br>\n",
    "dni_persona <b>INT PRIMARY KEY</b>,<br>\n",
    "nombre_persona <b>VAR CHAR</b>(255),<br>\n",
    "fecha_nacimiento <b>DATE</b>);"
   ]
  },
  {
   "cell_type": "markdown",
   "metadata": {},
   "source": [
    "<b>CREATE TABLE</b> HijoDe (<br>\n",
    "dni_hijo <b>INT</b>,<br>\n",
    "dni_padre <b>INT</b>,<br>\n",
    "<b>PRIMARY KEY</b> (dni_hijo, dni_padre),<br>\n",
    "<b>FOREING_KEY</b> (dni_hijo) <b>REFERENCES</b> Persona(dni_persona)<br>\n",
    "<b>FOREING_KEY</b> (dni_padre) <b>REFERENCES</b> Persona(dni_persona)<br>"
   ]
  },
  {
   "cell_type": "markdown",
   "metadata": {},
   "source": [
    "<hr>"
   ]
  },
  {
   "cell_type": "markdown",
   "metadata": {},
   "source": [
    "Las columnas tambien pueden ser configuradas con valores por defecto (<b>DEFAULT</b>) o autoincrementales (<b>AUTO_INCREMENT</b>)."
   ]
  },
  {
   "cell_type": "markdown",
   "metadata": {},
   "source": [
    "<hr>"
   ]
  },
  {
   "cell_type": "markdown",
   "metadata": {},
   "source": [
    "### Restricciones de dominio"
   ]
  },
  {
   "cell_type": "markdown",
   "metadata": {},
   "source": [
    "#### Restriccion NOT NULL"
   ]
  },
  {
   "cell_type": "markdown",
   "metadata": {},
   "source": [
    "fecha_nac <b>DATE NOT NULL</b>"
   ]
  },
  {
   "cell_type": "markdown",
   "metadata": {},
   "source": [
    "#### Restriccion dinamica"
   ]
  },
  {
   "cell_type": "markdown",
   "metadata": {},
   "source": [
    "Restringir aun mas el conjunto de valores posibles, a traves de un \"chequeo en forma dinamica\":"
   ]
  },
  {
   "cell_type": "markdown",
   "metadata": {},
   "source": [
    "CUIT_tipo <b>INT CHECK</b> (CUIT_TIPO=20) <b>20</b> (CUIT_TIPO=23) <b>OR</b> ..."
   ]
  },
  {
   "cell_type": "markdown",
   "metadata": {},
   "source": [
    "#### Nota (Clave primaria) "
   ]
  },
  {
   "cell_type": "markdown",
   "metadata": {},
   "source": [
    "La clave primaria se indica con <b>PRIMARY KEY</b>. Si esta compuesta de una unica columna, puede indicarse a continuacion el tipo."
   ]
  },
  {
   "cell_type": "markdown",
   "metadata": {},
   "source": [
    "#### Nota (Palabra clave UNIQUE)"
   ]
  },
  {
   "cell_type": "markdown",
   "metadata": {},
   "source": [
    "Con esta palabra clave se indica que una columna o conjunto de columnas no puede estar repetido en dos filas distintas."
   ]
  },
  {
   "cell_type": "markdown",
   "metadata": {},
   "source": [
    "<hr>"
   ]
  },
  {
   "cell_type": "markdown",
   "metadata": {},
   "source": [
    "### Restricciones de Integridad"
   ]
  },
  {
   "cell_type": "markdown",
   "metadata": {},
   "source": [
    "#### Integridad de entidad"
   ]
  },
  {
   "cell_type": "markdown",
   "metadata": {},
   "source": [
    "La clave primaria de una tabla nunca deberia ser NULL, aunque algunos SGBS lo permiten."
   ]
  },
  {
   "cell_type": "markdown",
   "metadata": {},
   "source": [
    "#### Integridad referencial"
   ]
  },
  {
   "cell_type": "markdown",
   "metadata": {},
   "source": [
    "Las claves foraneas se especifican con <b>FOREING KEY...REFERENCES</b>"
   ]
  },
  {
   "cell_type": "markdown",
   "metadata": {},
   "source": [
    "<hr>"
   ]
  },
  {
   "cell_type": "markdown",
   "metadata": {},
   "source": [
    "### SQL vs Modelo Relacional"
   ]
  },
  {
   "cell_type": "markdown",
   "metadata": {},
   "source": [
    "En el modelo relacional una relacion es un conjunto cuyos elementos son las tuplas. Por lo tanto, una tupla no puede estar repetida en una relacion. En SQL se permite que una fila este repetida muchas veces en una tabla. Este concepto se conoce como <b>multiset</b> o <b>bag of tuples</b>"
   ]
  },
  {
   "cell_type": "markdown",
   "metadata": {},
   "source": [
    "<hr>"
   ]
  },
  {
   "cell_type": "markdown",
   "metadata": {},
   "source": [
    "### Manipulacion de datos en SQL"
   ]
  },
  {
   "cell_type": "markdown",
   "metadata": {},
   "source": [
    "El esquema basico de una consulta en SQL es:"
   ]
  },
  {
   "cell_type": "markdown",
   "metadata": {},
   "source": [
    "<b>SELECT</b> $A_1$, $A_2$, ..., $A_n$ <br>\n",
    "<b>FROM</b> $T_1$, $T_2$, ..., $T_m$ <br>\n",
    "[ <b>WHERE</b> condition];"
   ]
  },
  {
   "cell_type": "markdown",
   "metadata": {},
   "source": [
    "En donde $A_1$, $A_2$, ..., $A_n$ es una lista de nombres de columnas, $T_1$, $T_2$, ..., $T_m$ es una lista de nombres de tablas, y condition es una condicion."
   ]
  },
  {
   "cell_type": "markdown",
   "metadata": {},
   "source": [
    "Es el analogo de la siguiente expresion en el Algebra Relacional:"
   ]
  },
  {
   "cell_type": "markdown",
   "metadata": {},
   "source": [
    "\\begin{equation}\n",
    "\\large \\pi_{A_1, A_2, ..., A_n} (\\sigma_{condition}(T_1 x T_2 x ... x T_m))\n",
    "\\end{equation}"
   ]
  },
  {
   "cell_type": "markdown",
   "metadata": {},
   "source": [
    "Con la diferencia de que en SQL la proyeccion no elimina filas repetidas."
   ]
  }
 ],
 "metadata": {
  "kernelspec": {
   "display_name": "Python 3",
   "language": "python",
   "name": "python3"
  },
  "language_info": {
   "codemirror_mode": {
    "name": "ipython",
    "version": 3
   },
   "file_extension": ".py",
   "mimetype": "text/x-python",
   "name": "python",
   "nbconvert_exporter": "python",
   "pygments_lexer": "ipython3",
   "version": "3.7.6"
  }
 },
 "nbformat": 4,
 "nbformat_minor": 4
}
